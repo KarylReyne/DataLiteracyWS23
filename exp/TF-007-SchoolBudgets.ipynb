{
 "cells": [
  {
   "cell_type": "markdown",
   "metadata": {},
   "source": [
    "# Analysis of the School Budget Data\n",
    "\n",
    "Author: Tom Freudenmann\n",
    "Date: 2024-17-01\n",
    "Tags: Analysis, School, Budget, Data\n",
    "Summary: This is the analysis of the school budgets in Germany.\n"
   ]
  },
  {
   "cell_type": "code",
   "execution_count": null,
   "metadata": {},
   "outputs": [],
   "source": [
    "from school_analysis.preprocessing.load import Loader\n",
    "import os\n",
    "import numpy as np\n",
    "import pandas as pd\n",
    "import matplotlib.pyplot as plt\n",
    "import school_analysis as sa\n",
    "from school_analysis.preprocessing.helpers import students_teachers\n",
    "from tueplots.constants.color import rgb\n",
    "from school_analysis.analysis.exploration import Exploration\n",
    "from school_analysis.analysis.aggregation import Aggregation\n",
    "from school_analysis.plotting.general import GeneralPlots\n",
    "\n",
    "FEDERAL_STATES= {\n",
    "    \"Old Federal States\": [\"Schleswig-Holstein\", \"Niedersachsen\", \"Bremen\", \"Hamburg\", \"Nordrhein-Westfalen\", \"Hessen\", \"Rheinland-Pfalz\", \"Saarland\", \"Baden-Württemberg\", \"Bayern\"],\n",
    "    \"New Federal States\": [\"Mecklenburg-Vorpommern\", \"Brandenburg\", \"Berlin\", \"Sachsen\", \"Sachsen-Anhalt\", \"Thüringen\"]\n",
    "}"
   ]
  }
 ],
 "metadata": {
  "language_info": {
   "name": "python"
  }
 },
 "nbformat": 4,
 "nbformat_minor": 2
}
