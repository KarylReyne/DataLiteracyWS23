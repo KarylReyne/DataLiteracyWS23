{
 "cells": [
  {
   "cell_type": "code",
   "execution_count": 1,
   "metadata": {},
   "outputs": [],
   "source": [
    "from school_analysis.preprocessing.load import Loader\n",
    "import pandas as pd\n",
    "\n",
    "loader = Loader()\n",
    "\n",
    "def load_special_edu_support_percentage():\n",
    "    melted_df = loader.load('students_with_special_educational_support_no_gender')\n",
    "\n",
    "    melted_df['year'] = pd.to_datetime(melted_df['year'], format='%Y')\n",
    "    melted_df['total'] = pd.to_numeric(melted_df['total'], errors='coerce')\n",
    "    total_over_years = melted_df.groupby('year')['total'].sum()\n",
    "\n",
    "    children_state = loader.load('school-children-by-state')\n",
    "    children_state = children_state.rename(columns={'Year': 'year'})\n",
    "    children_state['year'] = pd.to_datetime(children_state['year'], format='%Y')\n",
    "    child_amount_per_year = children_state.groupby('year')['Value'].sum()\n",
    "\n",
    "    children_state = loader.load('school-children-by-state')\n",
    "    children_state = children_state.rename(columns={'Year': 'year'})\n",
    "    children_state['year'] = pd.to_datetime(children_state['year'], format='%Y')\n",
    "    child_amount_per_year = children_state.groupby('year')['Value'].sum()\n",
    "\n",
    "    merged_df = pd.merge(total_over_years, child_amount_per_year, on='year')\n",
    "    merged_df['relative'] = merged_df['total']/merged_df['Value'] \n",
    "    return merged_df\n",
    "\n",
    "def load_no_hauptschulabschluss_percentage():\n",
    "    df_melted = loader.load('graduates')\n",
    "    df_melted['year'] = pd.to_datetime(df_melted['year'], format='%Y')\n",
    "    df_melted['total'] = pd.to_numeric(df_melted['total'], errors='coerce')\n",
    "    total_students_by_year = df_melted.groupby('year')['total'].sum()\n",
    "\n",
    "    children_state = loader.load('school-children-by-state')\n",
    "    children_state = children_state.rename(columns={'Year': 'year'})\n",
    "    children_state['year'] = pd.to_datetime(children_state['year'], format='%Y')\n",
    "    child_amount_per_year = children_state.groupby('year')['Value'].sum()\n",
    "\n",
    "    merged_df = pd.merge(total_students_by_year, child_amount_per_year, on='year')\n",
    "    merged_df['relative'] = merged_df['total']/merged_df['Value'] \n",
    "    return merged_df\n",
    "\n",
    "no_hauptschulabschluss = load_no_hauptschulabschluss_percentage()\n",
    "special_edu_support = load_special_edu_support_percentage()\n"
   ]
  },
  {
   "cell_type": "code",
   "execution_count": 2,
   "metadata": {},
   "outputs": [
    {
     "data": {
      "text/plain": [
       "-0.649581814470115"
      ]
     },
     "execution_count": 2,
     "metadata": {},
     "output_type": "execute_result"
    }
   ],
   "source": [
    "merged_df = pd.merge(no_hauptschulabschluss, special_edu_support, on='year', suffixes=('_A', '_B'))\n",
    "correlation_coefficient = merged_df['relative_A'].corr(merged_df['relative_B'])\n",
    "correlation_coefficient"
   ]
  }
 ],
 "metadata": {
  "kernelspec": {
   "display_name": ".venv",
   "language": "python",
   "name": "python3"
  },
  "language_info": {
   "codemirror_mode": {
    "name": "ipython",
    "version": 3
   },
   "file_extension": ".py",
   "mimetype": "text/x-python",
   "name": "python",
   "nbconvert_exporter": "python",
   "pygments_lexer": "ipython3",
   "version": "3.11.7"
  }
 },
 "nbformat": 4,
 "nbformat_minor": 2
}
