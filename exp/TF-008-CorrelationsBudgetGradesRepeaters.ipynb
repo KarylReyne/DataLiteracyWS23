{
 "cells": [
  {
   "cell_type": "markdown",
   "metadata": {},
   "source": [
    "# Correlation between Budget Grades and Repeaters"
   ]
  },
  {
   "cell_type": "code",
   "execution_count": 127,
   "metadata": {},
   "outputs": [],
   "source": [
    "from school_analysis.preprocessing.load import Loader\n",
    "import numpy as np\n",
    "import pandas as pd\n",
    "import matplotlib.pyplot as plt\n",
    "from tueplots.constants.color import rgb\n",
    "\n",
    "FEDERAL_STATES= {\n",
    "    \"Old Federal States\": [\"Schleswig-Holstein\", \"Niedersachsen\", \"Bremen\", \"Hamburg\", \"Nordrhein-Westfalen\", \"Hessen\", \"Rheinland-Pfalz\", \"Saarland\", \"Baden-Württemberg\", \"Bayern\"],\n",
    "    \"New Federal States\": [\"Mecklenburg-Vorpommern\", \"Brandenburg\", \"Berlin\", \"Sachsen\", \"Sachsen-Anhalt\", \"Thüringen\"]\n",
    "}\n",
    "\n",
    "STATE_MAPPING = {\n",
    "    'BW': 'Baden-Württemberg',\n",
    "    'BY': 'Bayern',\n",
    "    'BE': 'Berlin',\n",
    "    'BB': 'Brandenburg',\n",
    "    'HB': 'Bremen',\n",
    "    'HH': 'Hamburg',\n",
    "    'HE': 'Hessen',\n",
    "    'MV': 'Mecklenburg-Vorpommern',\n",
    "    'NI': 'Niedersachsen',\n",
    "    'NW': 'Nordrhein-Westfalen',\n",
    "    'RP': 'Rheinland-Pfalz',\n",
    "    'SL': 'Saarland',\n",
    "    'N': 'Sachsen',\n",
    "    'ST': 'Sachsen-Anhalt',\n",
    "    'SH': 'Schleswig-Holstein',\n",
    "    'TH': 'Thüringen'\n",
    "}\n",
    "\n",
    "loader = Loader()\n",
    "\n",
    "budget = loader.load(\"budgets-corrected\")\n",
    "grades = loader.load(\"abi-grades\")\n",
    "grades_temp = grades.T.reset_index().rename(columns={\"level_0\": \"Federal State\", \"level_1\": \"Year\"})\n",
    "grades = pd.melt(grades_temp, id_vars=[\"Federal State\", \"Year\"], value_vars=grades_temp.columns[2:], value_name=\"Value\")\n",
    "grades[\"Federal State\"] = grades[\"Federal State\"].map(STATE_MAPPING)\n",
    "grades[\"Year\"] = grades[\"Year\"].astype(int)\n",
    "grades[\"Grade\"] = grades[\"Grade\"].astype(float)\n",
    "repeaters = loader.load(\"number_of_repeaters\")\n",
    "repeaters = repeaters.rename(columns={\"state\": \"Federal State\", \"school\": \"School Type\", \"year\": \"Year\", \"total\": \"Repeaters\", \"grade\": \"Grade\"}).drop(columns=[\"male\", \"female\"])\n",
    "repeaters[\"Repeaters\"] = repeaters[\"Repeaters\"].replace(\"-\", np.nan).dropna().astype(int)"
   ]
  },
  {
   "cell_type": "code",
   "execution_count": 128,
   "metadata": {},
   "outputs": [
    {
     "name": "stdout",
     "output_type": "stream",
     "text": [
      "<class 'pandas.core.frame.DataFrame'>\n",
      "RangeIndex: 7936 entries, 0 to 7935\n",
      "Data columns (total 4 columns):\n",
      " #   Column         Non-Null Count  Dtype  \n",
      "---  ------         --------------  -----  \n",
      " 0   Federal State  7936 non-null   object \n",
      " 1   Year           7936 non-null   int64  \n",
      " 2   Grade          7936 non-null   float64\n",
      " 3   Value          7936 non-null   float64\n",
      "dtypes: float64(2), int64(1), object(1)\n",
      "memory usage: 248.1+ KB\n"
     ]
    }
   ],
   "source": [
    "grades.info()"
   ]
  },
  {
   "cell_type": "code",
   "execution_count": 129,
   "metadata": {},
   "outputs": [],
   "source": [
    "def correlation(x: pd.DataFrame, y: pd.DataFrame, join_on: str = \"Year\", corr_column: str = \"Value\"):\n",
    "    merged_df = pd.merge(x, y, on=join_on, suffixes=('_A', '_B'))\n",
    "    display(merged_df)\n",
    "    correlation_coefficient = merged_df[corr_column + '_A'].corr(merged_df[corr_column + '_B'])\n",
    "    return correlation_coefficient"
   ]
  },
  {
   "cell_type": "markdown",
   "metadata": {},
   "source": [
    "## Correlation between budget budget and grades"
   ]
  },
  {
   "cell_type": "code",
   "execution_count": 130,
   "metadata": {},
   "outputs": [
    {
     "name": "stdout",
     "output_type": "stream",
     "text": [
      "Correlation coefficient by federal state and year of average grade and reference budget  0.43602210789031476\n",
      "Correlation coefficient year of average grade and reference budget  0.8924863096930247\n"
     ]
    }
   ],
   "source": [
    "# Get the data\n",
    "budget_c = budget.copy()\n",
    "grades_c = grades.copy()\n",
    "\n",
    "# Filter the data to only required columns\n",
    "budget_c = budget_c.drop(columns=[\"Year Relative\", \"Index\"])\n",
    "grades_c[\"Grade\"] = grades_c[\"Grade\"] * -1 # Correct the grades to be in the same direction as the budget\n",
    "avg_grade_state = grades_c.groupby([\"Federal State\", \"Year\"]).apply(lambda x: (x[\"Grade\"] * x[\"Value\"]).sum() / x[\"Value\"].sum()).reset_index().rename(columns={0: \"Average Grade\"})\n",
    "avg_grade = grades_c.groupby([\"Year\"]).apply(lambda x: (x[\"Grade\"] * x[\"Value\"]).sum() / x[\"Value\"].sum()).reset_index().rename(columns={0: \"Average Grade\"})\n",
    "budget_c_avg = budget_c.groupby([\"Year\"]).apply(lambda x: x[\"Reference Budget\"].mean()).reset_index().rename(columns={0: \"Reference Budget\"})\n",
    "\n",
    "# Merge the data\n",
    "budget_grades_state = pd.merge(budget_c, avg_grade_state, on=[\"Federal State\", \"Year\"], suffixes=('_Budget', '_Grades')).dropna().drop_duplicates()\n",
    "budget_grades = pd.merge(budget_c_avg, avg_grade, on=[\"Year\"], suffixes=('_Budget', '_Grades')).dropna().drop_duplicates()\n",
    "\n",
    "# Calculate the correlation\n",
    "print(\"Correlation coefficient by federal state and year of average grade and reference budget \", np.corrcoef(budget_grades_state[\"Average Grade\"], budget_grades_state[\"Reference Budget\"])[0][1])\n",
    "print(\"Correlation coefficient year of average grade and reference budget \", np.corrcoef(budget_grades[\"Average Grade\"], budget_grades[\"Reference Budget\"])[0][1])\n"
   ]
  },
  {
   "cell_type": "markdown",
   "metadata": {},
   "source": [
    "The correlation between budget and grades is medium for the federal states and higher for the total average grade of germany"
   ]
  },
  {
   "cell_type": "markdown",
   "metadata": {},
   "source": [
    "## Correlation between budget and repeaters"
   ]
  },
  {
   "cell_type": "code",
   "execution_count": 133,
   "metadata": {},
   "outputs": [
    {
     "name": "stdout",
     "output_type": "stream",
     "text": [
      "Correlation coefficient by federal state and year of average grade and reference budget  0.028107730526534466\n",
      "Correlation coefficient year of average grade and reference budget  0.028107730526534466\n"
     ]
    }
   ],
   "source": [
    "# Get the data\n",
    "budget_c = budget.copy()\n",
    "repeaters_c = repeaters.copy()\n",
    "\n",
    "# Filter the data to only required columns\n",
    "repeaters_state = repeaters_c.groupby([\"Federal State\", \"Year\"]).apply(lambda x: x[\"Repeaters\"].mean()).reset_index().rename(columns={0: \"Repeaters\"})\n",
    "repeaters_avg = repeaters_c.groupby([\"Year\"]).apply(lambda x: x[\"Repeaters\"].mean()).reset_index().rename(columns={0: \"Repeaters\"})\n",
    "budget_c_avg = budget_c.groupby([\"Year\"]).apply(lambda x: x[\"Reference Budget\"].mean()).reset_index().rename(columns={0: \"Reference Budget\"})\n",
    "\n",
    "# Merge the data\n",
    "budget_repeaters_state = pd.merge(budget_c, repeaters_state, on=[\"Federal State\", \"Year\"], suffixes=('_Budget', '_Repeaters')).dropna().drop_duplicates()\n",
    "budget_repeaters= pd.merge(budget_c_avg, repeaters_avg, on=[\"Year\"], suffixes=('_Budget', '_Repeaters')).dropna().drop_duplicates()\n",
    "\n",
    "# Calculate the correlation\n",
    "print(\"Correlation coefficient by federal state and year of average grade and reference budget \", np.corrcoef(budget_repeaters_state[\"Repeaters\"], budget_repeaters_state[\"Reference Budget\"])[0][1])\n",
    "print(\"Correlation coefficient year of average grade and reference budget \", np.corrcoef(budget_repeaters_state[\"Repeaters\"], budget_repeaters_state[\"Reference Budget\"])[0][1])\n"
   ]
  }
 ],
 "metadata": {
  "kernelspec": {
   "display_name": "school-analysis-Zuc5u-dz-py3.11",
   "language": "python",
   "name": "python3"
  },
  "language_info": {
   "codemirror_mode": {
    "name": "ipython",
    "version": 3
   },
   "file_extension": ".py",
   "mimetype": "text/x-python",
   "name": "python",
   "nbconvert_exporter": "python",
   "pygments_lexer": "ipython3",
   "version": "3.11.6"
  }
 },
 "nbformat": 4,
 "nbformat_minor": 2
}
