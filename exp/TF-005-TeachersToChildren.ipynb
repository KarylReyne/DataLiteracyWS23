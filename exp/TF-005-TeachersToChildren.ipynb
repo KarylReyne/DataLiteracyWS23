{
 "cells": [
  {
   "cell_type": "markdown",
   "metadata": {},
   "source": [
    "# Analysis: Teachers to Students Ratio\n",
    "\n",
    "Author: Tom Freudenmann\n",
    "Date: 2024-12-01\n",
    "Tags: Teachers, Students, Ratio, Analysis\n",
    "Summary: This is the analysis of the teachers to students ratio in Germany.\n"
   ]
  },
  {
   "cell_type": "code",
   "execution_count": 163,
   "metadata": {},
   "outputs": [],
   "source": [
    "from school_analysis.preprocessing.load import Loader\n",
    "import os\n",
    "import numpy as np\n",
    "import pandas as pd\n",
    "import matplotlib.pyplot as plt\n",
    "import school_analysis as sa\n",
    "from tabulate import tabulate\n",
    "\n",
    "loader = Loader()\n",
    "students_per_state = loader.load('school-children-by-state')\n",
    "students_per_type = loader.load('school-children-by-type')\n",
    "teachers = loader.load('teachers-per-schooltype')"
   ]
  },
  {
   "cell_type": "markdown",
   "metadata": {},
   "source": [
    "# 1. Understanding data structure and validate downloaded data"
   ]
  },
  {
   "cell_type": "markdown",
   "metadata": {},
   "source": [
    "This section is used to look deeper into the data structure, validate the data and to get a better understanding of what to plot later."
   ]
  },
  {
   "cell_type": "markdown",
   "metadata": {},
   "source": [
    "## 1.1 Students per state\n",
    "First we want to have a look at the students per state and the structure of the data to understand what data is used."
   ]
  },
  {
   "cell_type": "code",
   "execution_count": 164,
   "metadata": {},
   "outputs": [],
   "source": [
    "def describe_counts(df, cols):\n",
    "    \"\"\"Pretty print the value counts of a dataframe\"\"\"\n",
    "    value_counts = {}\n",
    "    for c in cols:\n",
    "        v_counts = df[c].value_counts()\n",
    "        value_counts[c] = v_counts.keys().tolist()\n",
    "        value_counts[c + \"_count\"] = v_counts.values.tolist()\n",
    "        \n",
    "    print(tabulate(value_counts, headers='keys'))\n",
    "    \n",
    "def analyse_structure(df, cols = None):\n",
    "    \"\"\"Analyse the structure of a dataframe\"\"\"\n",
    "    print(\"Shape: \", df.shape)\n",
    "    print(\"Columns: \", df.columns)\n",
    "    print(\"Data types:\\n\", df.dtypes, \"\\n\")\n",
    "    print(\"Missing values:\\n\", df.isnull().sum(), \"\\n\")\n",
    "    print(\"Unique values:\\n\", df.nunique(), \"\\n\")\n",
    "    print(\"Value counts: \")\n",
    "    describe_counts(df, df.columns) if cols is None else describe_counts(df, cols)\n",
    "\n",
    "def analyse_min_max(df, col=\"Value\"):\n",
    "    most_students = df.loc[df[col].idxmax()]\n",
    "    least_students = df.loc[df[col].idxmin()]\n",
    "\n",
    "    # Print some stats as a table\n",
    "    print(\"Highest {}: \\n{}\".format(col, most_students))\n",
    "    print(\"-\" * 100)\n",
    "    print(\"Lowest {}: \\n{}\".format(col, least_students))\n",
    "    print(\"-\" * 100)\n",
    "\n",
    "# Todo: Move this to the framework"
   ]
  },
  {
   "cell_type": "code",
   "execution_count": 165,
   "metadata": {},
   "outputs": [
    {
     "name": "stdout",
     "output_type": "stream",
     "text": [
      "Highest Value: \n",
      "Federal State    Nordrhein-Westfalen\n",
      "Gender                           all\n",
      "Type                          Pupils\n",
      "Value                      2338855.0\n",
      "Year                            2003\n",
      "Name: 2280, dtype: object\n",
      "----------------------------------------------------------------------------------------------------\n",
      "Lowest Value: \n",
      "Federal State              Bremen\n",
      "Gender                          f\n",
      "Type             School beginners\n",
      "Value                      2437.0\n",
      "Year                         2008\n",
      "Name: 1048, dtype: object\n",
      "----------------------------------------------------------------------------------------------------\n"
     ]
    }
   ],
   "source": [
    "# Specify Analysis\n",
    "analyse_min_max(students_per_state, \"Value\")"
   ]
  },
  {
   "cell_type": "code",
   "execution_count": 166,
   "metadata": {},
   "outputs": [
    {
     "name": "stdout",
     "output_type": "stream",
     "text": [
      "Shape:  (3600, 5)\n",
      "Columns:  Index(['Federal State', 'Gender', 'Type', 'Value', 'Year'], dtype='object')\n",
      "Data types:\n",
      " Federal State     object\n",
      "Gender            object\n",
      "Type              object\n",
      "Value            float64\n",
      "Year               int64\n",
      "dtype: object \n",
      "\n",
      "Missing values:\n",
      " Federal State     0\n",
      "Gender            0\n",
      "Type              0\n",
      "Value            99\n",
      "Year              0\n",
      "dtype: int64 \n",
      "\n",
      "Unique values:\n",
      " Federal State      16\n",
      "Gender              3\n",
      "Type                3\n",
      "Value            3441\n",
      "Year               25\n",
      "dtype: int64 \n",
      "\n",
      "Value counts: \n",
      "Federal State             Federal State_count  Gender      Gender_count    Year    Year_count  Type                                       Type_count\n",
      "----------------------  ---------------------  --------  --------------  ------  ------------  ---------------------------------------  ------------\n",
      "Baden-Württemberg                         225  m                   1200    1998           144  Pupils                                           1200\n",
      "Bayern                                    225  f                   1200    2011           144  School beginners                                 1200\n",
      "Berlin                                    225  all                 1200    2021           144  School leavers (graduates and dropouts)          1200\n",
      "Brandenburg                               225                              2020           144\n",
      "Bremen                                    225                              2019           144\n",
      "Hamburg                                   225                              2018           144\n",
      "Hessen                                    225                              2017           144\n",
      "Mecklenburg-Vorpommern                    225                              2016           144\n",
      "Niedersachsen                             225                              2015           144\n",
      "Nordrhein-Westfalen                       225                              2014           144\n",
      "Rheinland-Pfalz                           225                              2013           144\n",
      "Saarland                                  225                              2012           144\n",
      "Sachsen                                   225                              2010           144\n",
      "Sachsen-Anhalt                            225                              1999           144\n",
      "Schleswig-Holstein                        225                              2009           144\n",
      "Thüringen                                 225                              2008           144\n",
      "                                                                           2007           144\n",
      "                                                                           2006           144\n",
      "                                                                           2005           144\n",
      "                                                                           2004           144\n",
      "                                                                           2003           144\n",
      "                                                                           2002           144\n",
      "                                                                           2001           144\n",
      "                                                                           2000           144\n",
      "                                                                           2022           144\n"
     ]
    }
   ],
   "source": [
    "# General Analysis\n",
    "analyse_structure(students_per_state, [\"Federal State\", \"Gender\", \"Year\", \"Type\"])"
   ]
  },
  {
   "cell_type": "markdown",
   "metadata": {},
   "source": [
    "As we can see the counts are always the same, but there are less 'all' genders and less results in the year 2022. ==> Maybe the data is not complete.\n",
    "\n",
    "Trying now to get all year, school combinations in which the gender all doesn't exist."
   ]
  },
  {
   "cell_type": "code",
   "execution_count": 167,
   "metadata": {},
   "outputs": [
    {
     "data": {
      "text/plain": [
       "Series([], dtype: bool)"
      ]
     },
     "execution_count": 167,
     "metadata": {},
     "output_type": "execute_result"
    }
   ],
   "source": [
    "students_per_state.groupby([\"Federal State\", \"Type\", \"Year\"]).apply(lambda x: len(x[\"Gender\"].value_counts().values.tolist()) != 3).loc[lambda x: x == True]"
   ]
  },
  {
   "cell_type": "markdown",
   "metadata": {},
   "source": [
    "It seems like the preprocessing is broken, because there are no results for the year 2022. So we have to fix this. (You may now see the corrected results in the table above.)"
   ]
  },
  {
   "cell_type": "markdown",
   "metadata": {},
   "source": [
    "## 1.2 Students per school type\n",
    "Now we want to have a look at the students per school type and the structure of the data to understand what data is used."
   ]
  },
  {
   "cell_type": "code",
   "execution_count": 168,
   "metadata": {},
   "outputs": [
    {
     "name": "stdout",
     "output_type": "stream",
     "text": [
      "Highest Value: \n",
      "School Type         Grammar schools (9 years of schooling)\n",
      "Certificate Type                                     Total\n",
      "Gender                                               Total\n",
      "Value                                             268984.0\n",
      "Year                                                  2006\n",
      "Name: 2369, dtype: object\n",
      "----------------------------------------------------------------------------------------------------\n",
      "Lowest Value: \n",
      "School Type                                           Special schools\n",
      "Certificate Type    Entrance qualification for univ. of appl. scie...\n",
      "Gender                                                         Female\n",
      "Value                                                             1.0\n",
      "Year                                                             1997\n",
      "Name: 139, dtype: object\n",
      "----------------------------------------------------------------------------------------------------\n"
     ]
    }
   ],
   "source": [
    "analyse_min_max(students_per_type, \"Value\")"
   ]
  },
  {
   "cell_type": "code",
   "execution_count": 169,
   "metadata": {},
   "outputs": [
    {
     "name": "stdout",
     "output_type": "stream",
     "text": [
      "Shape:  (5850, 5)\n",
      "Columns:  Index(['School Type', 'Certificate Type', 'Gender', 'Value', 'Year'], dtype='object')\n",
      "Data types:\n",
      " School Type          object\n",
      "Certificate Type     object\n",
      "Gender               object\n",
      "Value               float64\n",
      "Year                  int64\n",
      "dtype: object \n",
      "\n",
      "Missing values:\n",
      " School Type            0\n",
      "Certificate Type       0\n",
      "Gender                 0\n",
      "Value               1491\n",
      "Year                   0\n",
      "dtype: int64 \n",
      "\n",
      "Unique values:\n",
      " School Type           13\n",
      "Certificate Type       6\n",
      "Gender                 3\n",
      "Value               3294\n",
      "Year                  25\n",
      "dtype: int64 \n",
      "\n",
      "Value counts: \n",
      "Certificate Type                                      Certificate Type_count  Gender      Gender_count    Year    Year_count  School Type                                  School Type_count\n",
      "--------------------------------------------------  ------------------------  --------  --------------  ------  ------------  -----------------------------------------  -------------------\n",
      "Without secondary general school certificate                             975  Male                1950    1997           234  Secondary general schools                                  450\n",
      "Secondary general school certificate                                     975  Female              1950    2010           234  Schools with various courses of education                  450\n",
      "Intermediate school certificate                                          975  Total               1950    2020           234  Intermediate schools                                       450\n",
      "Entrance qualification for univ. of appl. sciences                       975                              2019           234  Grammar schools (9 years of schooling)                     450\n",
      "University entrance qualification                                        975                              2018           234  Grammar schools (8 years of schooling)                     450\n",
      "Total                                                                    975                              2017           234  Integrated comprehensive schools                           450\n",
      "                                                                                                          2016           234  Free Waldorf Schools                                       450\n",
      "                                                                                                          2015           234  Special schools                                            450\n",
      "                                                                                                          2014           234  Evening secondary general schools                          450\n",
      "                                                                                                          2013           234  Evening intermediate schools                               450\n",
      "                                                                                                          2012           234  Evening grammar schools                                    450\n",
      "                                                                                                          2011           234  Adult education colleges                                   450\n",
      "                                                                                                          2009           234  Externals                                                  450\n",
      "                                                                                                          1998           234\n",
      "                                                                                                          2008           234\n",
      "                                                                                                          2007           234\n",
      "                                                                                                          2006           234\n",
      "                                                                                                          2005           234\n",
      "                                                                                                          2004           234\n",
      "                                                                                                          2003           234\n",
      "                                                                                                          2002           234\n",
      "                                                                                                          2001           234\n",
      "                                                                                                          2000           234\n",
      "                                                                                                          1999           234\n",
      "                                                                                                          2021           234\n"
     ]
    }
   ],
   "source": [
    "# General Analysis\n",
    "analyse_structure(students_per_type, [\"Certificate Type\", \"Gender\", \"Year\", \"School Type\"])"
   ]
  },
  {
   "cell_type": "markdown",
   "metadata": {},
   "source": [
    "Again it can be seen, that there are some data missing for `Entrance qualification for universities of applied sciences`, `Total` and `University entrance qualification`. So we have to fix this. (You may now see the corrected results in the table above.)"
   ]
  },
  {
   "cell_type": "markdown",
   "metadata": {},
   "source": [
    "## 1.3 Teachers per state\n",
    "Now we want to have a look at the teachers per state and the structure of the data to understand what data is used."
   ]
  },
  {
   "cell_type": "code",
   "execution_count": 170,
   "metadata": {},
   "outputs": [
    {
     "data": {
      "text/plain": [
       "Index(['School Type', 'Contract Type', 'Federal State', 'Gender', 'Year',\n",
       "       'Number of Teachers'],\n",
       "      dtype='object')"
      ]
     },
     "execution_count": 170,
     "metadata": {},
     "output_type": "execute_result"
    }
   ],
   "source": [
    "teachers.columns"
   ]
  },
  {
   "cell_type": "code",
   "execution_count": 171,
   "metadata": {},
   "outputs": [
    {
     "name": "stdout",
     "output_type": "stream",
     "text": [
      "Highest Number of Teachers: \n",
      "School Type                              Grundschulen\n",
      "Contract Type         Vollzeitbeschäftigte Lehrkräfte\n",
      "Federal State                             Deutschland\n",
      "Gender                                              z\n",
      "Year                                             1992\n",
      "Number of Teachers                           119355.0\n",
      "Name: 1871, dtype: object\n",
      "----------------------------------------------------------------------------------------------------\n",
      "Lowest Number of Teachers: \n",
      "School Type                          Abendrealschulen\n",
      "Contract Type         Vollzeitbeschäftigte Lehrkräfte\n",
      "Federal State                       Baden-Württemberg\n",
      "Gender                                              z\n",
      "Year                                             1992\n",
      "Number of Teachers                                0.0\n",
      "Name: 27, dtype: object\n",
      "----------------------------------------------------------------------------------------------------\n"
     ]
    }
   ],
   "source": [
    "analyse_min_max(teachers, \"Number of Teachers\")"
   ]
  },
  {
   "cell_type": "code",
   "execution_count": 172,
   "metadata": {},
   "outputs": [
    {
     "name": "stdout",
     "output_type": "stream",
     "text": [
      "Shape:  (58261, 6)\n",
      "Columns:  Index(['School Type', 'Contract Type', 'Federal State', 'Gender', 'Year',\n",
      "       'Number of Teachers'],\n",
      "      dtype='object')\n",
      "Data types:\n",
      " School Type            object\n",
      "Contract Type          object\n",
      "Federal State          object\n",
      "Gender                 object\n",
      "Year                    int64\n",
      "Number of Teachers    float64\n",
      "dtype: object \n",
      "\n",
      "Missing values:\n",
      " School Type           0\n",
      "Contract Type         0\n",
      "Federal State         0\n",
      "Gender                0\n",
      "Year                  0\n",
      "Number of Teachers    0\n",
      "dtype: int64 \n",
      "\n",
      "Unique values:\n",
      " School Type             21\n",
      "Contract Type            3\n",
      "Federal State           17\n",
      "Gender                   3\n",
      "Year                    29\n",
      "Number of Teachers    9205\n",
      "dtype: int64 \n",
      "\n",
      "Value counts: \n",
      "School Type                                  School Type_count  Contract Type                           Contract Type_count  Federal State             Federal State_count  Gender      Gender_count    Year    Year_count\n",
      "-----------------------------------------  -------------------  ------------------------------------  ---------------------  ----------------------  ---------------------  --------  --------------  ------  ------------\n",
      "Gymnasien                                                 4437  Vollzeitbeschäftigte Lehrkräfte                       19662  Hessen                                   4437  z                  19517    1992          2009\n",
      "Freie Waldorfschulen                                      4437  Teilzeitbeschäftigte Lehrkräfte                       19517  Deutschland                              4176  w                  19459    2007          2009\n",
      "Förderschulen                                             4437  Stundenweise beschäftigte Lehrkräfte                  19082  Bremen                                   4147  m                  19285    2019          2009\n",
      "Zusammen                                                  4176                                                               Hamburg                                  4147                              2018          2009\n",
      "Abendgymnasien                                            4118                                                               Niedersachsen                            3654                              2017          2009\n",
      "Integrierte Gesamtschulen                                 4089                                                               Berlin                                   3625                              2016          2009\n",
      "Grundschulen                                              4002                                                               Sachsen-Anhalt                           3625                              2015          2009\n",
      "Realschulen                                               3915                                                               Nordrhein-Westfalen                      3393                              2014          2009\n",
      "Kollegs                                                   3741                                                               Baden-Württemberg                        3393                              2013          2009\n",
      "Schularten mit mehreren Bildungsgängen                    3654                                                               Schleswig-Holstein                       3306                              2012          2009\n",
      "Schulkindergärten                                         3248                                                               Saarland                                 3190                              2011          2009\n",
      "Abendrealschulen                                          3248                                                               Brandenburg                              3132                              2010          2009\n",
      "Hauptschulen                                              3045                                                               Bayern                                   3132                              2009          2009\n",
      "Schulartunabhängige Orientierungsstufe                    2610                                                               Rheinland-Pfalz                          3132                              2008          2009\n",
      "Vorklassen                                                1972                                                               Mecklenburg-Vorpommern                   2987                              2006          2009\n",
      "Abendhauptschulen                                         1305                                                               Sachsen                                  2610                              1993          2009\n",
      "Hauptschulen                                               696                                                               Thüringen                                2175                              2005          2009\n",
      "Keine Zuordnung zu einer Schulart möglich                  522                                                                                                                                          2004          2009\n",
      "Grundschulen                                               435                                                                                                                                          2003          2009\n",
      "Kollegs                                                     87                                                                                                                                          2002          2009\n",
      "Integrierte Gesamtschulen                                   87                                                                                                                                          2001          2009\n",
      "                                                                                                                                                                                                        2000          2009\n",
      "                                                                                                                                                                                                        1999          2009\n",
      "                                                                                                                                                                                                        1998          2009\n",
      "                                                                                                                                                                                                        1997          2009\n",
      "                                                                                                                                                                                                        1996          2009\n",
      "                                                                                                                                                                                                        1995          2009\n",
      "                                                                                                                                                                                                        1994          2009\n",
      "                                                                                                                                                                                                        2020          2009\n"
     ]
    }
   ],
   "source": [
    "analyse_structure(teachers, [\"School Type\", \"Contract Type\", \"Federal State\", \"Gender\", \"Year\"])"
   ]
  },
  {
   "cell_type": "markdown",
   "metadata": {},
   "source": [
    "Since every year appears the same amount of times, we can assume that the data is complete. We can also see that there are differences in the school types of the federal states, because they have different school systems."
   ]
  },
  {
   "cell_type": "markdown",
   "metadata": {},
   "source": [
    "## 2. Plotting the data\n",
    "In this section we want to plot the data to get a better understanding of the data. Foreach data set we want to plot the following:\n",
    "  - Evolution over time\n",
    "  - Comparison of the federal states\n",
    "  - Comparison of the school types\n",
    "  - Comparison of the school types in the federal states\n",
    "  \n",
    "Then we want to compare the teachers to students ratio of the federal states and the school types."
   ]
  },
  {
   "cell_type": "code",
   "execution_count": null,
   "metadata": {},
   "outputs": [],
   "source": []
  }
 ],
 "metadata": {
  "kernelspec": {
   "display_name": "school-analysis-Zuc5u-dz-py3.11",
   "language": "python",
   "name": "python3"
  },
  "language_info": {
   "codemirror_mode": {
    "name": "ipython",
    "version": 3
   },
   "file_extension": ".py",
   "mimetype": "text/x-python",
   "name": "python",
   "nbconvert_exporter": "python",
   "pygments_lexer": "ipython3",
   "version": "3.11.6"
  }
 },
 "nbformat": 4,
 "nbformat_minor": 2
}
